{
 "cells": [
  {
   "cell_type": "code",
   "execution_count": 1,
   "id": "8978f02b",
   "metadata": {},
   "outputs": [
    {
     "name": "stdout",
     "output_type": "stream",
     "text": [
      "Enter the name : Rohan\n",
      "Enter the age : 24\n",
      "Enter the city : Nagpur\n",
      "The name is Rohan, the age is 24 and the city is Nagpur\n"
     ]
    }
   ],
   "source": [
    "name=input(\"Enter the name : \")\n",
    "age=int(input(\"Enter the age : \"))\n",
    "city=input(\"Enter the city : \")\n",
    "print(f\"The name is {name}, the age is {age} and the city is {city}\")"
   ]
  },
  {
   "cell_type": "code",
   "execution_count": 2,
   "id": "7245b3c6",
   "metadata": {},
   "outputs": [
    {
     "name": "stdout",
     "output_type": "stream",
     "text": [
      "Enter number1 : 10\n",
      "Enter number2 : 5\n",
      "Enter an operator(+,-,*,/)-\n",
      "5\n"
     ]
    }
   ],
   "source": [
    "a=int(input(\"Enter number1 : \"))\n",
    "b=int(input(\"Enter number2 : \"))\n",
    "c=input(\"Enter an operator(+,-,*,/)\")\n",
    "if c=='+':\n",
    "    print(a+b)\n",
    "elif c=='-':\n",
    "    print(a-b)\n",
    "elif c=='*':\n",
    "    print(a*b)\n",
    "elif c=='/':\n",
    "    print(a/b)\n",
    "    "
   ]
  },
  {
   "cell_type": "code",
   "execution_count": 3,
   "id": "e9c06d6e",
   "metadata": {},
   "outputs": [
    {
     "name": "stdout",
     "output_type": "stream",
     "text": [
      "Enter a number :12\n",
      "Even\n"
     ]
    }
   ],
   "source": [
    "num=int(input(\"Enter a number :\"))\n",
    "if num%2==0:\n",
    "    print(\"Even\")\n",
    "else:\n",
    "    print(\"Odd\")"
   ]
  },
  {
   "cell_type": "code",
   "execution_count": 4,
   "id": "187709c7",
   "metadata": {},
   "outputs": [
    {
     "name": "stdout",
     "output_type": "stream",
     "text": [
      "Enter a number :3\n",
      "Odd\n"
     ]
    }
   ],
   "source": [
    "num=int(input(\"Enter a number :\"))\n",
    "if num%2==0:\n",
    "    print(\"Even\")\n",
    "else:\n",
    "    print(\"Odd\")"
   ]
  },
  {
   "cell_type": "code",
   "execution_count": 5,
   "id": "986a7d95",
   "metadata": {},
   "outputs": [
    {
     "name": "stdout",
     "output_type": "stream",
     "text": [
      "Enter the temperature in Celsius : 38\n",
      "The temperature in fahrenheit is :  100.4\n"
     ]
    }
   ],
   "source": [
    "num=float(input(\"Enter the temperature in Celsius : \"))\n",
    "f=(9/5)*num + 32\n",
    "print(\"The temperature in fahrenheit is : \",f)"
   ]
  },
  {
   "cell_type": "code",
   "execution_count": 6,
   "id": "fe31790b",
   "metadata": {},
   "outputs": [
    {
     "name": "stdout",
     "output_type": "stream",
     "text": [
      "Enter the temperature in Fahrenheit : 100.4\n",
      "The temperature in celsius is :  38.00000000000001\n"
     ]
    }
   ],
   "source": [
    "fah=float(input(\"Enter the temperature in Fahrenheit : \"))\n",
    "c=(fah-32)*(5/9)\n",
    "print(\"The temperature in celsius is : \",c)"
   ]
  },
  {
   "cell_type": "code",
   "execution_count": 10,
   "id": "e7569fba",
   "metadata": {},
   "outputs": [
    {
     "name": "stdout",
     "output_type": "stream",
     "text": [
      "Enter a password : 123456789\n",
      "Password is weak\n"
     ]
    }
   ],
   "source": [
    "password=input(\"Enter a password : \")\n",
    "length=len(password)\n",
    "contains_numbers = any(char.isdigit() for char in password)\n",
    "contains_letters = any(char.isalpha() for char in password)\n",
    "if contains_numbers==True & contains_letters==True:\n",
    "    if length>=8:\n",
    "        print(\"Password is strong\")\n",
    "    else:\n",
    "        print(\"Password is weak\")\n",
    "else:\n",
    "    print(\"Password is weak\")"
   ]
  },
  {
   "cell_type": "code",
   "execution_count": 11,
   "id": "46191ad7",
   "metadata": {},
   "outputs": [
    {
     "name": "stdout",
     "output_type": "stream",
     "text": [
      "Enter a password : 123\n",
      "Password is weak\n"
     ]
    }
   ],
   "source": [
    "password=input(\"Enter a password : \")\n",
    "length=len(password)\n",
    "contains_numbers = any(char.isdigit() for char in password)\n",
    "contains_letters = any(char.isalpha() for char in password)\n",
    "if contains_numbers==True & contains_letters==True:\n",
    "    if length>=8:\n",
    "        print(\"Password is strong\")\n",
    "    else:\n",
    "        print(\"Password is weak\")\n",
    "else:\n",
    "    print(\"Password is weak\")"
   ]
  },
  {
   "cell_type": "code",
   "execution_count": 12,
   "id": "faa56fe7",
   "metadata": {},
   "outputs": [
    {
     "name": "stdout",
     "output_type": "stream",
     "text": [
      "Enter a password : 123r4567u8\n",
      "Password is strong\n"
     ]
    }
   ],
   "source": [
    "password=input(\"Enter a password : \")\n",
    "length=len(password)\n",
    "contains_numbers = any(char.isdigit() for char in password)\n",
    "contains_letters = any(char.isalpha() for char in password)\n",
    "if contains_numbers==True & contains_letters==True:\n",
    "    if length>=8:\n",
    "        print(\"Password is strong\")\n",
    "    else:\n",
    "        print(\"Password is weak\")\n",
    "else:\n",
    "    print(\"Password is weak\")"
   ]
  },
  {
   "cell_type": "code",
   "execution_count": 13,
   "id": "86ce115c",
   "metadata": {},
   "outputs": [
    {
     "name": "stdout",
     "output_type": "stream",
     "text": [
      "Enter a number : 12\n",
      "The difference is too high\n"
     ]
    }
   ],
   "source": [
    "import random\n",
    "r = random.randint(1, 100)\n",
    "a=int(input(\"Enter a number : \"))\n",
    "if a-r>=10 or r-a>=10:\n",
    "    print(\"The difference is too high\")\n",
    "elif a==r:\n",
    "    print(\"The guess matches!!!\")\n",
    "else:\n",
    "    print(\"The difference is low\")"
   ]
  },
  {
   "cell_type": "code",
   "execution_count": 14,
   "id": "3dbb7a47",
   "metadata": {},
   "outputs": [
    {
     "name": "stdout",
     "output_type": "stream",
     "text": [
      "Enter the height : 160\n",
      "Enter the weight : 75\n",
      "0.0029296875\n"
     ]
    }
   ],
   "source": [
    "h=float(input(\"Enter the height : \"))\n",
    "w=float(input(\"Enter the weight : \"))\n",
    "bmi=w/(h**2)\n",
    "print(bmi)"
   ]
  },
  {
   "cell_type": "code",
   "execution_count": 21,
   "id": "c4bc2b06",
   "metadata": {},
   "outputs": [
    {
     "name": "stdout",
     "output_type": "stream",
     "text": [
      "Enter a positive integer: 5\n",
      "The factorial of 5 is: 120\n"
     ]
    }
   ],
   "source": [
    "def calculate_factorial(n):\n",
    "    # Base case: factorial of 0 or 1 is 1\n",
    "    if n == 0 or n == 1:\n",
    "        return 1\n",
    "    else:\n",
    "        return n * calculate_factorial(n - 1)\n",
    "\n",
    "# Ask the user to enter a positive integer\n",
    "while True:\n",
    "    try:\n",
    "        user_input = int(input(\"Enter a positive integer: \"))\n",
    "        if user_input >= 0:\n",
    "            break\n",
    "        else:\n",
    "            print(\"Please enter a non-negative integer.\")\n",
    "    except ValueError:\n",
    "        print(\"Invalid input. Please enter a valid integer.\")\n",
    "\n",
    "# Calculate the factorial\n",
    "result = calculate_factorial(user_input)\n",
    "\n",
    "# Display the result\n",
    "print(f\"The factorial of {user_input} is: {result}\")\n"
   ]
  },
  {
   "cell_type": "code",
   "execution_count": 22,
   "id": "7ec43724",
   "metadata": {},
   "outputs": [
    {
     "name": "stdout",
     "output_type": "stream",
     "text": [
      "Enter a string : Rohan\n",
      "nahoR\n"
     ]
    }
   ],
   "source": [
    "str1=input(\"Enter a string : \")\n",
    "str2=str1[::-1]\n",
    "print(str2)"
   ]
  },
  {
   "cell_type": "code",
   "execution_count": 23,
   "id": "1f64e868",
   "metadata": {},
   "outputs": [
    {
     "name": "stdout",
     "output_type": "stream",
     "text": [
      "Enter the limit : 10\n",
      "1\n",
      "1\n",
      "2\n",
      "3\n",
      "5\n",
      "8\n",
      "13\n",
      "21\n",
      "34\n",
      "55\n"
     ]
    }
   ],
   "source": [
    "n=int(input(\"Enter the limit : \"))\n",
    "a=0\n",
    "b=1\n",
    "c=a+b\n",
    "print(b)\n",
    "for i in range(1,n):\n",
    "    print(c)\n",
    "    a=b\n",
    "    b=c\n",
    "    c=a+b"
   ]
  },
  {
   "cell_type": "code",
   "execution_count": null,
   "id": "f821e9ef",
   "metadata": {},
   "outputs": [],
   "source": []
  }
 ],
 "metadata": {
  "kernelspec": {
   "display_name": "Python 3 (ipykernel)",
   "language": "python",
   "name": "python3"
  },
  "language_info": {
   "codemirror_mode": {
    "name": "ipython",
    "version": 3
   },
   "file_extension": ".py",
   "mimetype": "text/x-python",
   "name": "python",
   "nbconvert_exporter": "python",
   "pygments_lexer": "ipython3",
   "version": "3.11.3"
  }
 },
 "nbformat": 4,
 "nbformat_minor": 5
}
